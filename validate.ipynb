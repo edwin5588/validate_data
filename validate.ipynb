{
 "cells": [
  {
   "cell_type": "code",
   "execution_count": 23,
   "id": "d11835c0",
   "metadata": {},
   "outputs": [],
   "source": [
    "import paramiko\n",
    "import os\n",
    "import subprocess\n",
    "import pysftp\n",
    "\n",
    "def execute(cmd):\n",
    "    \"\"\"\n",
    "    executes a commandline command, and can output a log\n",
    "    \n",
    "    cmd list[string]--> commandline command\n",
    "    \n",
    "    \"\"\"\n",
    "    process = subprocess.Popen(cmd, stdout=subprocess.PIPE)\n",
    "    stdout = process.communicate()[0]\n",
    "    print(stdout.strip().decode('utf-8'))\n",
    "    \n",
    "    \n",
    "def sftp(connect_type, host, user, pwd, port):\n",
    "    \"\"\"\n",
    "    Connects to a sftp server\n",
    "    \n",
    "    host --> hostname of the server\n",
    "    user --> username\n",
    "    pwd --> password\n",
    "    \"\"\"\n",
    "    if connect_type == \"paramiko\":\n",
    "        transport = paramiko.Transport((host, port))\n",
    "        transport.connect(None, user, pwd)\n",
    "        sftp = paramiko.SFTPClient.from_transport(transport)\n",
    "        return sftp\n",
    "    elif connect_type == \"pysftp\":\n",
    "        sftp = pysftp.Connection(host,username=user, password=pwd)\n",
    "        return sftp"
   ]
  },
  {
   "cell_type": "code",
   "execution_count": 28,
   "id": "087143c8",
   "metadata": {},
   "outputs": [],
   "source": [
    "client = sftp('pysftp', \"genomequery.ucsd.edu\", \"sftp_user\", \"bafnalabsftp\", 22)"
   ]
  },
  {
   "cell_type": "code",
   "execution_count": 29,
   "id": "5a0a82e2",
   "metadata": {},
   "outputs": [
    {
     "ename": "TypeError",
     "evalue": "walktree() missing 4 required positional arguments: 'remotepath', 'fcallback', 'dcallback', and 'ucallback'",
     "output_type": "error",
     "traceback": [
      "\u001b[1;31m---------------------------------------------------------------------------\u001b[0m",
      "\u001b[1;31mTypeError\u001b[0m                                 Traceback (most recent call last)",
      "\u001b[1;32m<ipython-input-29-80703ad8586e>\u001b[0m in \u001b[0;36m<module>\u001b[1;34m\u001b[0m\n\u001b[1;32m----> 1\u001b[1;33m \u001b[0mclient\u001b[0m\u001b[1;33m.\u001b[0m\u001b[0mwalktree\u001b[0m\u001b[1;33m(\u001b[0m\u001b[1;33m)\u001b[0m\u001b[1;33m\u001b[0m\u001b[1;33m\u001b[0m\u001b[0m\n\u001b[0m",
      "\u001b[1;31mTypeError\u001b[0m: walktree() missing 4 required positional arguments: 'remotepath', 'fcallback', 'dcallback', and 'ucallback'"
     ]
    }
   ],
   "source": [
    "client.walktree()"
   ]
  },
  {
   "cell_type": "code",
   "execution_count": null,
   "id": "45bf0a4e",
   "metadata": {},
   "outputs": [],
   "source": []
  }
 ],
 "metadata": {
  "kernelspec": {
   "display_name": "Python 3",
   "language": "python",
   "name": "python3"
  },
  "language_info": {
   "codemirror_mode": {
    "name": "ipython",
    "version": 3
   },
   "file_extension": ".py",
   "mimetype": "text/x-python",
   "name": "python",
   "nbconvert_exporter": "python",
   "pygments_lexer": "ipython3",
   "version": "3.8.8"
  }
 },
 "nbformat": 4,
 "nbformat_minor": 5
}
