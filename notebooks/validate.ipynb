{
 "cells": [
  {
   "cell_type": "code",
   "execution_count": null,
   "id": "d11835c0",
   "metadata": {},
   "outputs": [],
   "source": [
    "import paramiko\n",
    "import os\n",
    "import subprocess"
   ]
  },
  {
   "cell_type": "code",
   "execution_count": null,
   "id": "ec6cc80c",
   "metadata": {},
   "outputs": [],
   "source": [
    "paramiko.util.log_to_file(\"paramiko.log\")\n",
    "\n",
    "# Open a transport\n",
    "host,port = \"genomequery.ucsd.edu\",22\n",
    "transport = paramiko.Transport((host,port))\n",
    "\n",
    "# Auth    \n",
    "username,password = \"sftp_user\",\"bafnalabsftp\"\n",
    "transport.connect(None,username,password)\n",
    "\n",
    "# Go!    \n",
    "sftp = paramiko.SFTPClient.from_transport(transport)\n"
   ]
  },
  {
   "cell_type": "code",
   "execution_count": null,
   "id": "ffd269b4",
   "metadata": {},
   "outputs": [],
   "source": [
    "sftp.listdir(path = 'files/turner2017')"
   ]
  },
  {
   "cell_type": "code",
   "execution_count": null,
   "id": "4e8ceaa1",
   "metadata": {},
   "outputs": [],
   "source": [
    "os.chdir('../scripts/')\n",
    "os.system('dummy.py')"
   ]
  },
  {
   "cell_type": "code",
   "execution_count": null,
   "id": "4f05b955",
   "metadata": {},
   "outputs": [],
   "source": [
    "subprocess.call(['python', 'dummy.py'])"
   ]
  },
  {
   "cell_type": "code",
   "execution_count": null,
   "id": "9fc0c876",
   "metadata": {},
   "outputs": [],
   "source": []
  },
  {
   "cell_type": "code",
   "execution_count": null,
   "id": "48bd1da0",
   "metadata": {},
   "outputs": [],
   "source": []
  }
 ],
 "metadata": {
  "kernelspec": {
   "display_name": "Python 3",
   "language": "python",
   "name": "python3"
  },
  "language_info": {
   "codemirror_mode": {
    "name": "ipython",
    "version": 3
   },
   "file_extension": ".py",
   "mimetype": "text/x-python",
   "name": "python",
   "nbconvert_exporter": "python",
   "pygments_lexer": "ipython3",
   "version": "3.8.8"
  }
 },
 "nbformat": 4,
 "nbformat_minor": 5
}
